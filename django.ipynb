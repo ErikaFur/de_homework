{
 "cells": [
  {
   "cell_type": "code",
   "execution_count": null,
   "metadata": {
    "collapsed": true
   },
   "outputs": [],
   "source": [
    "from fastapi import FastAPI\n",
    "import typing\n",
    "import random\n",
    "from pydantic import BaseModel\n",
    "from pydantic import Field\n",
    "import arcgis\n",
    "from arcgis.gis import GIS\n",
    "from fastapi import FastAPI\n",
    "from fastapi import HTTPException\n",
    "import requests\n",
    "\n",
    "gis = GIS(url='http://arcgis.com', username='ErikaFur', password='tuybuka1')\n",
    "\n",
    "API_KEY_Yandex = \"5ce46f3b-97db-4709-9d09-5b06994b5510\"\n",
    "\n",
    "def get_address(lat, lon):\n",
    "\n",
    "    URL = f\"https://geocode-maps.yandex.ru/1.x/?apikey={API_KEY_Yandex}&geocode={lat},{lon}&format=json&sco=latlong&kind=house&results=1&lang=ru_RU\"\n",
    "    result = requests.get(URL).json()\n",
    "    result_map = requests.get(f\"http://static-maps.yandex.ru/1.x/?ll={lat},{lon}&z={15}&l={map}\")\n",
    "    map_file = \"map.png\"\n",
    "    try:\n",
    "        with open(map_file, \"wb\") as file:\n",
    "            file.write(result_map.content)\n",
    "    except IOError as ex:\n",
    "        print(\"Ошибка записи временного файла:\", ex)\n",
    "        exit(2)\n",
    "    return result['response']['GeoObjectCollection']['featureMember'][0]['GeoObject']['metaDataProperty']['GeocoderMetaData']['text']\n",
    "\n",
    "\n",
    "#gis = GIS(url='http://arcgis.com', username='ErikaFur', password='tuybuka1')\n",
    "\n",
    "app = FastAPI(title=\"Random phrase\")\n",
    "get_address(55.753681, 48.743252)\n",
    "@app.get(\"/\")\n",
    "async def root():\n",
    "    #print(gis.map(\"Кызыл\", zoomlevel=15))\n",
    "    return 0\n"
   ]
  }
 ],
 "metadata": {
  "kernelspec": {
   "display_name": "Python 3",
   "language": "python",
   "name": "python3"
  },
  "language_info": {
   "codemirror_mode": {
    "name": "ipython",
    "version": 2
   },
   "file_extension": ".py",
   "mimetype": "text/x-python",
   "name": "python",
   "nbconvert_exporter": "python",
   "pygments_lexer": "ipython2",
   "version": "2.7.6"
  }
 },
 "nbformat": 4,
 "nbformat_minor": 0
}