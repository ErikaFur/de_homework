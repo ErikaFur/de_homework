{
 "cells": [
  {
   "cell_type": "code",
   "execution_count": 5,
   "outputs": [],
   "source": [
    "import overpy\n"
   ],
   "metadata": {
    "collapsed": false,
    "pycharm": {
     "name": "#%%\n"
    }
   }
  },
  {
   "cell_type": "code",
   "execution_count": 6,
   "outputs": [
    {
     "ename": "NameError",
     "evalue": "name 'overpy' is not defined",
     "output_type": "error",
     "traceback": [
      "\u001B[1;31m---------------------------------------------------------------------------\u001B[0m",
      "\u001B[1;31mNameError\u001B[0m                                 Traceback (most recent call last)",
      "\u001B[1;32m<ipython-input-6-822dfda802b0>\u001B[0m in \u001B[0;36m<module>\u001B[1;34m\u001B[0m\n\u001B[0;32m      1\u001B[0m \u001B[1;32mimport\u001B[0m \u001B[0mgis\u001B[0m\u001B[1;33m\u001B[0m\u001B[0m\n\u001B[1;32m----> 2\u001B[1;33m \u001B[0mapi\u001B[0m \u001B[1;33m=\u001B[0m \u001B[0moverpy\u001B[0m\u001B[1;33m.\u001B[0m\u001B[0mOverpass\u001B[0m\u001B[1;33m(\u001B[0m\u001B[1;33m)\u001B[0m\u001B[1;33m\u001B[0m\u001B[0m\n\u001B[0m\u001B[0;32m      3\u001B[0m \u001B[1;33m\u001B[0m\u001B[0m\n\u001B[0;32m      4\u001B[0m \u001B[1;31m# fetch all ways and nodes\u001B[0m\u001B[1;33m\u001B[0m\u001B[1;33m\u001B[0m\u001B[0m\n\u001B[0;32m      5\u001B[0m result = api.query(\"\"\"\n",
      "\u001B[1;31mNameError\u001B[0m: name 'overpy' is not defined"
     ]
    }
   ],
   "source": [
    "import gis\n",
    "api = overpy.Overpass()\n",
    "\n",
    "# fetch all ways and nodes\n",
    "result = api.query(\"\"\"\n",
    "    way(50.746,7.154,50.748,7.157) [\"highway\"];\n",
    "    (._;>;);\n",
    "    out body;\n",
    "    \"\"\")\n"
   ],
   "metadata": {
    "collapsed": false,
    "pycharm": {
     "name": "#%%\n"
    }
   }
  },
  {
   "cell_type": "code",
   "execution_count": 7,
   "outputs": [
    {
     "name": "stdout",
     "output_type": "stream",
     "text": [
      "Name: Rhedenstraße\n",
      "  Highway: residential\n",
      "  Nodes:\n",
      "    Lat: 50.746874, Lon: 7.156307\n",
      "    Lat: 50.746598, Lon: 7.156237\n",
      "    Lat: 50.746477, Lon: 7.156199\n",
      "    Lat: 50.746360, Lon: 7.156124\n",
      "    Lat: 50.746263, Lon: 7.156023\n",
      "    Lat: 50.746194, Lon: 7.155926\n",
      "    Lat: 50.746139, Lon: 7.155843\n",
      "Name: Von-Ketteler-Straße\n",
      "  Highway: residential\n",
      "  Nodes:\n",
      "    Lat: 50.746905, Lon: 7.155786\n",
      "    Lat: 50.747222, Lon: 7.155621\n",
      "Name: Mutter-Barat-Straße\n",
      "  Highway: residential\n",
      "  Nodes:\n",
      "    Lat: 50.747989, Lon: 7.156302\n",
      "    Lat: 50.747934, Lon: 7.156229\n",
      "    Lat: 50.747695, Lon: 7.155421\n",
      "    Lat: 50.747605, Lon: 7.155159\n",
      "    Lat: 50.747241, Lon: 7.154310\n",
      "    Lat: 50.746939, Lon: 7.153634\n",
      "Name: Stegerwaldstraße\n",
      "  Highway: residential\n",
      "  Nodes:\n",
      "    Lat: 50.747853, Lon: 7.153685\n",
      "    Lat: 50.747666, Lon: 7.154022\n",
      "    Lat: 50.747673, Lon: 7.154122\n",
      "    Lat: 50.747939, Lon: 7.154603\n",
      "    Lat: 50.748182, Lon: 7.155178\n",
      "    Lat: 50.748318, Lon: 7.155590\n",
      "    Lat: 50.748362, Lon: 7.155646\n",
      "Name: Alte Schulstraße\n",
      "  Highway: residential\n",
      "  Nodes:\n",
      "    Lat: 50.747537, Lon: 7.158000\n",
      "    Lat: 50.747544, Lon: 7.157841\n",
      "    Lat: 50.747554, Lon: 7.157667\n",
      "    Lat: 50.747582, Lon: 7.157470\n",
      "    Lat: 50.747620, Lon: 7.157314\n",
      "    Lat: 50.747672, Lon: 7.157152\n",
      "    Lat: 50.747703, Lon: 7.157088\n",
      "    Lat: 50.747752, Lon: 7.156991\n",
      "    Lat: 50.747869, Lon: 7.156775\n",
      "    Lat: 50.747882, Lon: 7.156751\n",
      "    Lat: 50.748061, Lon: 7.156421\n",
      "    Lat: 50.748213, Lon: 7.156179\n",
      "    Lat: 50.748263, Lon: 7.156042\n",
      "    Lat: 50.748429, Lon: 7.155750\n",
      "    Lat: 50.748831, Lon: 7.155019\n",
      "    Lat: 50.749207, Lon: 7.154365\n",
      "    Lat: 50.749501, Lon: 7.153915\n",
      "    Lat: 50.749608, Lon: 7.153750\n",
      "    Lat: 50.749800, Lon: 7.153468\n",
      "    Lat: 50.749847, Lon: 7.153398\n",
      "    Lat: 50.750132, Lon: 7.152963\n",
      "    Lat: 50.750224, Lon: 7.152842\n",
      "Name: n/a\n",
      "  Highway: service\n",
      "  Nodes:\n",
      "    Lat: 50.746079, Lon: 7.154944\n",
      "    Lat: 50.745963, Lon: 7.154580\n",
      "    Lat: 50.745662, Lon: 7.154815\n",
      "    Lat: 50.745788, Lon: 7.155202\n",
      "Name: Mutter-Barat-Straße\n",
      "  Highway: footway\n",
      "  Nodes:\n",
      "    Lat: 50.748061, Lon: 7.156421\n",
      "    Lat: 50.747989, Lon: 7.156302\n",
      "Name: Von-Ketteler-Straße\n",
      "  Highway: residential\n",
      "  Nodes:\n",
      "    Lat: 50.747335, Lon: 7.152963\n",
      "    Lat: 50.746985, Lon: 7.153550\n",
      "    Lat: 50.746939, Lon: 7.153634\n",
      "    Lat: 50.746733, Lon: 7.154001\n",
      "    Lat: 50.746657, Lon: 7.154135\n",
      "    Lat: 50.746585, Lon: 7.154273\n",
      "    Lat: 50.746562, Lon: 7.154380\n",
      "    Lat: 50.746560, Lon: 7.154508\n",
      "    Lat: 50.746581, Lon: 7.154655\n",
      "    Lat: 50.746868, Lon: 7.155638\n",
      "    Lat: 50.746905, Lon: 7.155786\n",
      "    Lat: 50.746912, Lon: 7.155892\n",
      "    Lat: 50.746902, Lon: 7.156003\n",
      "    Lat: 50.746874, Lon: 7.156307\n",
      "    Lat: 50.746809, Lon: 7.156921\n",
      "    Lat: 50.746751, Lon: 7.157490\n",
      "Name: Von-Ketteler-Straße\n",
      "  Highway: service\n",
      "  Nodes:\n",
      "    Lat: 50.746562, Lon: 7.154380\n",
      "    Lat: 50.746165, Lon: 7.154428\n",
      "    Lat: 50.745963, Lon: 7.154580\n",
      "    Lat: 50.745895, Lon: 7.154570\n",
      "    Lat: 50.745810, Lon: 7.154439\n",
      "Name: n/a\n",
      "  Highway: footway\n",
      "  Nodes:\n",
      "    Lat: 50.746733, Lon: 7.154001\n",
      "    Lat: 50.746488, Lon: 7.153662\n",
      "Name: n/a\n",
      "  Highway: service\n",
      "  Nodes:\n",
      "    Lat: 50.747869, Lon: 7.156775\n",
      "    Lat: 50.748004, Lon: 7.157098\n",
      "    Lat: 50.748013, Lon: 7.157117\n",
      "    Lat: 50.748162, Lon: 7.156947\n",
      "    Lat: 50.748136, Lon: 7.156879\n"
     ]
    }
   ],
   "source": [
    "for way in result.ways:\n",
    "    print(\"Name: %s\" % way.tags.get(\"name\", \"n/a\"))\n",
    "    print(\"  Highway: %s\" % way.tags.get(\"highway\", \"n/a\"))\n",
    "    print(\"  Nodes:\")\n",
    "    for node in way.nodes:\n",
    "        print(\"    Lat: %f, Lon: %f\" % (node.lat, node.lon))"
   ],
   "metadata": {
    "collapsed": false,
    "pycharm": {
     "name": "#%%\n"
    }
   }
  },
  {
   "cell_type": "code",
   "execution_count": 12,
   "outputs": [],
   "source": [
    "result = api.query(\"node(55.7442,48.7337,55.7557,48.7665);out;\")"
   ],
   "metadata": {
    "collapsed": false,
    "pycharm": {
     "name": "#%%\n"
    }
   }
  },
  {
   "cell_type": "code",
   "execution_count": 14,
   "outputs": [
    {
     "data": {
      "text/plain": "2935"
     },
     "execution_count": 14,
     "metadata": {},
     "output_type": "execute_result"
    }
   ],
   "source": [
    "len(result.nodes)"
   ],
   "metadata": {
    "collapsed": false,
    "pycharm": {
     "name": "#%%\n"
    }
   }
  },
  {
   "cell_type": "code",
   "execution_count": 15,
   "outputs": [
    {
     "data": {
      "text/plain": "0"
     },
     "execution_count": 15,
     "metadata": {},
     "output_type": "execute_result"
    }
   ],
   "source": [
    "len(result.ways)\n"
   ],
   "metadata": {
    "collapsed": false,
    "pycharm": {
     "name": "#%%\n"
    }
   }
  },
  {
   "cell_type": "code",
   "execution_count": 18,
   "outputs": [
    {
     "data": {
      "text/plain": "730553510"
     },
     "execution_count": 18,
     "metadata": {},
     "output_type": "execute_result"
    }
   ],
   "source": [
    "node = result.nodes[2]\n",
    "node.id"
   ],
   "metadata": {
    "collapsed": false,
    "pycharm": {
     "name": "#%%\n"
    }
   }
  },
  {
   "cell_type": "code",
   "execution_count": 19,
   "outputs": [
    {
     "data": {
      "text/plain": "{}"
     },
     "execution_count": 19,
     "metadata": {},
     "output_type": "execute_result"
    }
   ],
   "source": [
    "node.tags\n"
   ],
   "metadata": {
    "collapsed": false,
    "pycharm": {
     "name": "#%%\n"
    }
   }
  },
  {
   "cell_type": "code",
   "execution_count": 20,
   "outputs": [],
   "source": [
    "result = api.query('area[\"ISO3166-1\"=\"GB\"][admin_level=2];node[\"place\"=\"city\"](area);out;')"
   ],
   "metadata": {
    "collapsed": false,
    "pycharm": {
     "name": "#%%\n"
    }
   }
  },
  {
   "cell_type": "code",
   "execution_count": null,
   "outputs": [],
   "source": [
    "result.\n"
   ],
   "metadata": {
    "collapsed": false,
    "pycharm": {
     "name": "#%%\n"
    }
   }
  },
  {
   "cell_type": "code",
   "execution_count": 7,
   "metadata": {},
   "outputs": [
    {
     "ename": "AttributeError",
     "evalue": "module 'gis' has no attribute 'content'",
     "output_type": "error",
     "traceback": [
      "\u001B[1;31m---------------------------------------------------------------------------\u001B[0m",
      "\u001B[1;31mAttributeError\u001B[0m                            Traceback (most recent call last)",
      "\u001B[1;32m<ipython-input-7-e6e4b076bd34>\u001B[0m in \u001B[0;36m<module>\u001B[1;34m\u001B[0m\n\u001B[0;32m      1\u001B[0m \u001B[1;32mfrom\u001B[0m \u001B[0mIPython\u001B[0m\u001B[1;33m.\u001B[0m\u001B[0mdisplay\u001B[0m \u001B[1;32mimport\u001B[0m \u001B[0mdisplay\u001B[0m\u001B[1;33m\u001B[0m\u001B[0m\n\u001B[1;32m----> 2\u001B[1;33m \u001B[0mitems\u001B[0m \u001B[1;33m=\u001B[0m \u001B[0mgis\u001B[0m\u001B[1;33m.\u001B[0m\u001B[0mcontent\u001B[0m\u001B[1;33m.\u001B[0m\u001B[0msearch\u001B[0m\u001B[1;33m(\u001B[0m\u001B[1;34m'title:Moscow'\u001B[0m\u001B[1;33m,\u001B[0m \u001B[0mitem_type\u001B[0m\u001B[1;33m=\u001B[0m\u001B[1;34m'Feature Collection'\u001B[0m\u001B[1;33m)\u001B[0m\u001B[1;33m\u001B[0m\u001B[0m\n\u001B[0m\u001B[0;32m      3\u001B[0m \u001B[1;32mfor\u001B[0m \u001B[0mitem\u001B[0m \u001B[1;32min\u001B[0m \u001B[0mitems\u001B[0m\u001B[1;33m:\u001B[0m\u001B[1;33m\u001B[0m\u001B[0m\n\u001B[0;32m      4\u001B[0m     \u001B[0mdisplay\u001B[0m\u001B[1;33m(\u001B[0m\u001B[0mitem\u001B[0m\u001B[1;33m)\u001B[0m\u001B[1;33m\u001B[0m\u001B[0m\n\u001B[0;32m      5\u001B[0m \u001B[1;33m\u001B[0m\u001B[0m\n",
      "\u001B[1;31mAttributeError\u001B[0m: module 'gis' has no attribute 'content'"
     ]
    }
   ],
   "source": [
    "from IPython.display import display\n",
    "items = gis.content.search('title:Moscow', item_type='Feature Collection')\n",
    "for item in items:\n",
    "    display(item)"
   ]
  },
  {
   "cell_type": "code",
   "execution_count": 49,
   "metadata": {},
   "outputs": [
    {
     "data": {
      "text/plain": [
       "[]"
      ]
     },
     "metadata": {},
     "output_type": "display_data"
    }
   ],
   "source": [
    "search_result = gis.content.search(\"title:Kyzyl\", item_type = \"Web Map\")\n",
    "display(search_result)"
   ]
  },
  {
   "cell_type": "code",
   "execution_count": 50,
   "metadata": {},
   "outputs": [
    {
     "ename": "IndexError",
     "evalue": "list index out of range",
     "output_type": "error",
     "traceback": [
      "\u001B[1;31m---------------------------------------------------------------------------\u001B[0m",
      "\u001B[1;31mIndexError\u001B[0m                                Traceback (most recent call last)",
      "\u001B[1;32m<ipython-input-50-0dca6766eae7>\u001B[0m in \u001B[0;36m<module>\u001B[1;34m\u001B[0m\n\u001B[1;32m----> 1\u001B[1;33m \u001B[0mwm_item\u001B[0m \u001B[1;33m=\u001B[0m \u001B[0msearch_result\u001B[0m\u001B[1;33m[\u001B[0m\u001B[1;36m1\u001B[0m\u001B[1;33m]\u001B[0m\u001B[1;33m\u001B[0m\u001B[0m\n\u001B[0m\u001B[0;32m      2\u001B[0m \u001B[1;33m\u001B[0m\u001B[0m\n\u001B[0;32m      3\u001B[0m \u001B[1;32mfrom\u001B[0m \u001B[0marcgis\u001B[0m\u001B[1;33m.\u001B[0m\u001B[0mmapping\u001B[0m \u001B[1;32mimport\u001B[0m \u001B[0mWebMap\u001B[0m\u001B[1;33m\u001B[0m\u001B[0m\n\u001B[0;32m      4\u001B[0m \u001B[0mweb_map_obj\u001B[0m \u001B[1;33m=\u001B[0m \u001B[0mWebMap\u001B[0m\u001B[1;33m(\u001B[0m\u001B[0mwm_item\u001B[0m\u001B[1;33m)\u001B[0m\u001B[1;33m\u001B[0m\u001B[0m\n",
      "\u001B[1;31mIndexError\u001B[0m: list index out of range"
     ]
    }
   ],
   "source": [
    "wm_item = search_result[1]\n",
    "\n",
    "from arcgis.mapping import WebMap\n",
    "web_map_obj = WebMap(wm_item)"
   ]
  },
  {
   "cell_type": "code",
   "execution_count": 51,
   "metadata": {},
   "outputs": [
    {
     "data": {
      "application/vnd.jupyter.widget-view+json": {
       "model_id": "b6b2345df2b74b5d890f277bea79fc6f",
       "version_major": 2,
       "version_minor": 0
      },
      "text/plain": [
       "MapView(hide_mode_switch=True, layout=Layout(height='400px', width='100%'))"
      ]
     },
     "metadata": {},
     "output_type": "display_data"
    },
    {
     "data": {
      "text/html": [
       "<div class=\"map-static-img-preview-f4e18248-6cb5-44a9-b3c8-e9d243bf986c\"><img src=\"\"></img></div>"
      ],
      "text/plain": [
       "<IPython.core.display.HTML object>"
      ]
     },
     "metadata": {},
     "output_type": "display_data"
    }
   ],
   "source": [
    "web_map_obj"
   ]
  },
  {
   "cell_type": "code",
   "execution_count": 1,
   "metadata": {},
   "outputs": [
    {
     "data": {
      "text/plain": "0.14848435584242342"
     },
     "execution_count": 1,
     "metadata": {},
     "output_type": "execute_result"
    }
   ],
   "source": [
    "sum = 0\n",
    "for i in range(2,12):\n",
    "    sum+=((i-2)/11)**11\n",
    "sum"
   ]
  },
  {
   "cell_type": "code",
   "execution_count": 3,
   "outputs": [
    {
     "data": {
      "text/plain": "0.21241830065359477"
     },
     "execution_count": 3,
     "metadata": {},
     "output_type": "execute_result"
    }
   ],
   "source": [
    "13*5/(17*18)\n"
   ],
   "metadata": {
    "collapsed": false,
    "pycharm": {
     "name": "#%%\n"
    }
   }
  },
  {
   "cell_type": "code",
   "execution_count": 4,
   "outputs": [
    {
     "data": {
      "text/plain": "306"
     },
     "execution_count": 4,
     "metadata": {},
     "output_type": "execute_result"
    }
   ],
   "source": [
    "17*18\n"
   ],
   "metadata": {
    "collapsed": false,
    "pycharm": {
     "name": "#%%\n"
    }
   }
  },
  {
   "cell_type": "code",
   "execution_count": null,
   "outputs": [],
   "source": [],
   "metadata": {
    "collapsed": false,
    "pycharm": {
     "name": "#%%\n"
    }
   }
  }
 ],
 "metadata": {
  "kernelspec": {
   "display_name": "Python 3",
   "language": "python",
   "name": "python3"
  },
  "language_info": {
   "codemirror_mode": {
    "name": "ipython",
    "version": 3
   },
   "file_extension": ".py",
   "mimetype": "text/x-python",
   "name": "python",
   "nbconvert_exporter": "python",
   "pygments_lexer": "ipython3",
   "version": "3.7.0"
  }
 },
 "nbformat": 4,
 "nbformat_minor": 1
}